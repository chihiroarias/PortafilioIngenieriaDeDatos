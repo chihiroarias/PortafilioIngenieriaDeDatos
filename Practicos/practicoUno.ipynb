{
 "cells": [
  {
   "cell_type": "markdown",
   "id": "02d38395",
   "metadata": {},
   "source": [
    "Ejercicio 1\n"
   ]
  },
  {
   "cell_type": "code",
   "execution_count": 1,
   "id": "b6f0f198",
   "metadata": {},
   "outputs": [
    {
     "data": {
      "text/html": [
       "<div>\n",
       "<style scoped>\n",
       "    .dataframe tbody tr th:only-of-type {\n",
       "        vertical-align: middle;\n",
       "    }\n",
       "\n",
       "    .dataframe tbody tr th {\n",
       "        vertical-align: top;\n",
       "    }\n",
       "\n",
       "    .dataframe thead th {\n",
       "        text-align: right;\n",
       "    }\n",
       "</style>\n",
       "<table border=\"1\" class=\"dataframe\">\n",
       "  <thead>\n",
       "    <tr style=\"text-align: right;\">\n",
       "      <th></th>\n",
       "      <th>count</th>\n",
       "      <th>unique</th>\n",
       "      <th>top</th>\n",
       "      <th>freq</th>\n",
       "      <th>mean</th>\n",
       "      <th>std</th>\n",
       "      <th>min</th>\n",
       "      <th>25%</th>\n",
       "      <th>50%</th>\n",
       "      <th>75%</th>\n",
       "      <th>max</th>\n",
       "    </tr>\n",
       "  </thead>\n",
       "  <tbody>\n",
       "    <tr>\n",
       "      <th>sepal_length</th>\n",
       "      <td>150.0</td>\n",
       "      <td>NaN</td>\n",
       "      <td>NaN</td>\n",
       "      <td>NaN</td>\n",
       "      <td>5.843333</td>\n",
       "      <td>0.828066</td>\n",
       "      <td>4.3</td>\n",
       "      <td>5.1</td>\n",
       "      <td>5.8</td>\n",
       "      <td>6.4</td>\n",
       "      <td>7.9</td>\n",
       "    </tr>\n",
       "    <tr>\n",
       "      <th>sepal_width</th>\n",
       "      <td>150.0</td>\n",
       "      <td>NaN</td>\n",
       "      <td>NaN</td>\n",
       "      <td>NaN</td>\n",
       "      <td>3.057333</td>\n",
       "      <td>0.435866</td>\n",
       "      <td>2.0</td>\n",
       "      <td>2.8</td>\n",
       "      <td>3.0</td>\n",
       "      <td>3.3</td>\n",
       "      <td>4.4</td>\n",
       "    </tr>\n",
       "    <tr>\n",
       "      <th>petal_length</th>\n",
       "      <td>150.0</td>\n",
       "      <td>NaN</td>\n",
       "      <td>NaN</td>\n",
       "      <td>NaN</td>\n",
       "      <td>3.758</td>\n",
       "      <td>1.765298</td>\n",
       "      <td>1.0</td>\n",
       "      <td>1.6</td>\n",
       "      <td>4.35</td>\n",
       "      <td>5.1</td>\n",
       "      <td>6.9</td>\n",
       "    </tr>\n",
       "    <tr>\n",
       "      <th>petal_width</th>\n",
       "      <td>150.0</td>\n",
       "      <td>NaN</td>\n",
       "      <td>NaN</td>\n",
       "      <td>NaN</td>\n",
       "      <td>1.199333</td>\n",
       "      <td>0.762238</td>\n",
       "      <td>0.1</td>\n",
       "      <td>0.3</td>\n",
       "      <td>1.3</td>\n",
       "      <td>1.8</td>\n",
       "      <td>2.5</td>\n",
       "    </tr>\n",
       "    <tr>\n",
       "      <th>species</th>\n",
       "      <td>150</td>\n",
       "      <td>3</td>\n",
       "      <td>setosa</td>\n",
       "      <td>50</td>\n",
       "      <td>NaN</td>\n",
       "      <td>NaN</td>\n",
       "      <td>NaN</td>\n",
       "      <td>NaN</td>\n",
       "      <td>NaN</td>\n",
       "      <td>NaN</td>\n",
       "      <td>NaN</td>\n",
       "    </tr>\n",
       "  </tbody>\n",
       "</table>\n",
       "</div>"
      ],
      "text/plain": [
       "              count unique     top freq      mean       std  min  25%   50%  \\\n",
       "sepal_length  150.0    NaN     NaN  NaN  5.843333  0.828066  4.3  5.1   5.8   \n",
       "sepal_width   150.0    NaN     NaN  NaN  3.057333  0.435866  2.0  2.8   3.0   \n",
       "petal_length  150.0    NaN     NaN  NaN     3.758  1.765298  1.0  1.6  4.35   \n",
       "petal_width   150.0    NaN     NaN  NaN  1.199333  0.762238  0.1  0.3   1.3   \n",
       "species         150      3  setosa   50       NaN       NaN  NaN  NaN   NaN   \n",
       "\n",
       "              75%  max  \n",
       "sepal_length  6.4  7.9  \n",
       "sepal_width   3.3  4.4  \n",
       "petal_length  5.1  6.9  \n",
       "petal_width   1.8  2.5  \n",
       "species       NaN  NaN  "
      ]
     },
     "metadata": {},
     "output_type": "display_data"
    }
   ],
   "source": [
    "#imports\n",
    "import seaborn as sns\n",
    "import sys, pandas as pd, seaborn as sns, matplotlib\n",
    "\n",
    "df = sns.load_dataset('iris')\n",
    "df.head()\n",
    "df.rename(columns={\n",
    "    'SepalLengthCm':'sepal_length',\n",
    "    'SepalWidthCm':'sepal_width',\n",
    "    'PetalLengthCm':'petal_length',\n",
    "    'PetalWidthCm':'petal_width',\n",
    "    'Species':'species'\n",
    "}, inplace=True)\n",
    "df = df.drop(columns=['Id'], errors='ignore')\n",
    "df.head()\n",
    "df['species'] = df['species'].astype('category')\n",
    "\n",
    "\n",
    "df.shape, df.dtypes, df.isna().sum()\n",
    "\n",
    "display(df.describe(include='all').T)\n",
    "\n"
   ]
  },
  {
   "cell_type": "markdown",
   "id": "85b9ce36",
   "metadata": {},
   "source": [
    "3.  Preguntas de negocio:\n",
    "    Escribe 3–5 preguntas propias y ordénalas por prioridad.\n",
    "\n",
    "    ¿Qué especie de iris tiene la mayor variabilidad en la longitud del sépalo?\n"
   ]
  },
  {
   "cell_type": "code",
   "execution_count": null,
   "id": "e67cf397",
   "metadata": {},
   "outputs": [
    {
     "name": "stderr",
     "output_type": "stream",
     "text": [
      "C:\\Users\\arias\\AppData\\Local\\Temp\\ipykernel_12432\\3470082474.py:1: FutureWarning: The default of observed=False is deprecated and will be changed to True in a future version of pandas. Pass observed=False to retain current behavior or observed=True to adopt the future default and silence this warning.\n",
      "  df.groupby('species')['sepal_length'].std()\n"
     ]
    },
    {
     "data": {
      "text/plain": [
       "species\n",
       "setosa        0.352490\n",
       "versicolor    0.516171\n",
       "virginica     0.635880\n",
       "Name: sepal_length, dtype: float64"
      ]
     },
     "execution_count": 2,
     "metadata": {},
     "output_type": "execute_result"
    }
   ],
   "source": [
    "# agrupa por especie y calcula la desviación estándar de la longitud del sépalo\n",
    "df.groupby('species')['sepal_length'].std()\n",
    "# Para la pregunta 1 vemos que la virginica es la que presenta una desviación estándar más alta, \n",
    "# lo que indica que tiene la mayor variabilidad en la longitud del sépalo."
   ]
  },
  {
   "cell_type": "markdown",
   "id": "51759872",
   "metadata": {},
   "source": [
    "¿Existe una correlación positiva entre la longitud del sépalo y la longitud del pétalo?"
   ]
  },
  {
   "cell_type": "code",
   "execution_count": null,
   "id": "7adab730",
   "metadata": {},
   "outputs": [
    {
     "data": {
      "text/html": [
       "<div>\n",
       "<style scoped>\n",
       "    .dataframe tbody tr th:only-of-type {\n",
       "        vertical-align: middle;\n",
       "    }\n",
       "\n",
       "    .dataframe tbody tr th {\n",
       "        vertical-align: top;\n",
       "    }\n",
       "\n",
       "    .dataframe thead th {\n",
       "        text-align: right;\n",
       "    }\n",
       "</style>\n",
       "<table border=\"1\" class=\"dataframe\">\n",
       "  <thead>\n",
       "    <tr style=\"text-align: right;\">\n",
       "      <th></th>\n",
       "      <th>sepal_length</th>\n",
       "      <th>petal_length</th>\n",
       "    </tr>\n",
       "  </thead>\n",
       "  <tbody>\n",
       "    <tr>\n",
       "      <th>sepal_length</th>\n",
       "      <td>1.000000</td>\n",
       "      <td>0.871754</td>\n",
       "    </tr>\n",
       "    <tr>\n",
       "      <th>petal_length</th>\n",
       "      <td>0.871754</td>\n",
       "      <td>1.000000</td>\n",
       "    </tr>\n",
       "  </tbody>\n",
       "</table>\n",
       "</div>"
      ],
      "text/plain": [
       "              sepal_length  petal_length\n",
       "sepal_length      1.000000      0.871754\n",
       "petal_length      0.871754      1.000000"
      ]
     },
     "execution_count": 3,
     "metadata": {},
     "output_type": "execute_result"
    }
   ],
   "source": [
    "# Muestra la correlación entre el largo del pétalo y el largo del sépalo\n",
    "df[['sepal_length', 'petal_length']].corr()\n",
    "# La tabla nos muestra una fuerte correlación entre el largo del sépalo y el pétalo\n",
    "# Mientras más largo sea el sépalo el largo del pétalo también tiende a ser más largo"
   ]
  },
  {
   "cell_type": "markdown",
   "id": "ca05ec31",
   "metadata": {},
   "source": [
    "¿Existen diferencias notables en la longitud del pétalo entre las diferentes especies?"
   ]
  },
  {
   "cell_type": "markdown",
   "id": "eae34d51",
   "metadata": {},
   "source": []
  },
  {
   "cell_type": "markdown",
   "id": "c6e82ed3",
   "metadata": {},
   "source": [
    "Consigna 6\n",
    ". Plausibilidad y rangos\n",
    "Construye results/reportes/range_check.csv con columnas: feature, unidad, tipo, rango_esperado, %missing, obs_min, obs_max, flag.\n",
    "Pistas:\n",
    "\n",
    "Usá DataFrame.select_dtypes para identificar columnas numéricas.\n",
    "df[col].agg(['min','max']) y df[col].isna().mean() ayudan a llenar la tabla.\n",
    "Para flag, compará contra tu rango esperado con Series.between o Series.isin.\n"
   ]
  },
  {
   "cell_type": "code",
   "execution_count": 4,
   "id": "dd16b2ee",
   "metadata": {},
   "outputs": [],
   "source": [
    "range_check_cvs = [\"feature\", \"unidad\", \"tipo\", \"rango_esperado\", \"%missing\",\" obs_min\",\" obs_max\", \"flag\"]\n"
   ]
  }
 ],
 "metadata": {
  "kernelspec": {
   "display_name": "Python 3",
   "language": "python",
   "name": "python3"
  },
  "language_info": {
   "codemirror_mode": {
    "name": "ipython",
    "version": 3
   },
   "file_extension": ".py",
   "mimetype": "text/x-python",
   "name": "python",
   "nbconvert_exporter": "python",
   "pygments_lexer": "ipython3",
   "version": "3.13.5"
  }
 },
 "nbformat": 4,
 "nbformat_minor": 5
}
